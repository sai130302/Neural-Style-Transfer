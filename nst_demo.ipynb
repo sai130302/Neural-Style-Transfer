{
 "cells": [
  {
   "cell_type": "code",
   "execution_count": null,
   "source": [
    "import utils.utils as utils\r\n",
    "import neural_style_transfer as NST\r\n",
    "content_img = utils.get_image(\"dancing.jpg\",(512,512))\r\n",
    "style_img = utils.get_image(\"picasso.jpg\",(512,512))\r\n",
    "input_img = content_img.clone()\r\n",
    "\r\n",
    "input_img = NST.run_style_transfer(content_img,style_img,input_img)\r\n",
    "utils.tensor_to_image(input_img,True,\"Styled Image\")"
   ],
   "outputs": [],
   "metadata": {}
  }
 ],
 "metadata": {
  "orig_nbformat": 4,
  "language_info": {
   "name": "python"
  }
 },
 "nbformat": 4,
 "nbformat_minor": 2
}